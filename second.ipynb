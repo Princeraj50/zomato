{
 "cells": [
  {
   "cell_type": "code",
   "execution_count": 1,
   "id": "66dd0751",
   "metadata": {},
   "outputs": [],
   "source": [
    "import os\n",
    "from langchain_openai import ChatOpenAI\n",
    "from langchain_core.prompts import ChatPromptTemplate\n",
    "from langchain_core.output_parsers import StrOutputParser\n",
    "from dotenv import load_dotenv"
   ]
  },
  {
   "cell_type": "code",
   "execution_count": 2,
   "id": "1d82a678",
   "metadata": {},
   "outputs": [],
   "source": [
    "load_dotenv()\n",
    "\n",
    "os.environ[\"OPENAI_API_KEY\"]=os.getenv(\"OPENAI_API_KEY\")\n",
    "os.environ[\"LANGCHAIN_TRACING_V2\"]=\"true\"\n",
    "os.environ[\"LANGCHAIN_API_KEY\"]=os.getenv(\"LANGCHAIN_API_KEY\")"
   ]
  },
  {
   "cell_type": "code",
   "execution_count": 40,
   "id": "1bbce3d0",
   "metadata": {},
   "outputs": [],
   "source": [
    "prompt = ChatPromptTemplate.from_template(\"what is the capital of {country}\")"
   ]
  },
  {
   "cell_type": "code",
   "execution_count": 41,
   "id": "3256bbf3",
   "metadata": {},
   "outputs": [],
   "source": [
    "from langchain_openai import ChatOpenAI\n",
    "model = ChatOpenAI(model=\"gpt-3.5-turbo-0125\")"
   ]
  },
  {
   "cell_type": "code",
   "execution_count": 42,
   "id": "3944f32a",
   "metadata": {},
   "outputs": [],
   "source": [
    "chain= prompt| model | StrOutputParser()"
   ]
  },
  {
   "cell_type": "code",
   "execution_count": 43,
   "id": "87686192",
   "metadata": {},
   "outputs": [],
   "source": [
    "population_prompt = ChatPromptTemplate.from_template(\"What is the population of {capital} ?\")"
   ]
  },
  {
   "cell_type": "code",
   "execution_count": 44,
   "id": "ddaa0c86",
   "metadata": {},
   "outputs": [],
   "source": [
    "composed_chain = {\"capital\": chain} | population_prompt | model | StrOutputParser()"
   ]
  },
  {
   "cell_type": "code",
   "execution_count": 45,
   "id": "4b419254",
   "metadata": {},
   "outputs": [
    {
     "data": {
      "text/plain": [
       "'As of 2021, the population of New Delhi, the capital of India, is estimated to be over 21 million.'"
      ]
     },
     "execution_count": 45,
     "metadata": {},
     "output_type": "execute_result"
    }
   ],
   "source": [
    "composed_chain.invoke({\"country\": \"india\"})"
   ]
  },
  {
   "cell_type": "code",
   "execution_count": null,
   "id": "ada69c71",
   "metadata": {},
   "outputs": [],
   "source": []
  },
  {
   "cell_type": "markdown",
   "id": "c990a690",
   "metadata": {},
   "source": [
    "#adding memory"
   ]
  },
  {
   "cell_type": "code",
   "execution_count": 46,
   "id": "2fb8f9a6",
   "metadata": {},
   "outputs": [],
   "source": [
    "from langchain.memory import ConversationBufferWindowMemory"
   ]
  },
  {
   "cell_type": "code",
   "execution_count": 47,
   "id": "b2720d80",
   "metadata": {},
   "outputs": [
    {
     "name": "stderr",
     "output_type": "stream",
     "text": [
      "C:\\Windows\\Temp\\ipykernel_18672\\2929478956.py:1: LangChainDeprecationWarning: Please see the migration guide at: https://python.langchain.com/docs/versions/migrating_memory/\n",
      "  memory = ConversationBufferWindowMemory(k=5)\n"
     ]
    }
   ],
   "source": [
    "memory = ConversationBufferWindowMemory(k=5)"
   ]
  },
  {
   "cell_type": "code",
   "execution_count": 52,
   "id": "a834c391",
   "metadata": {},
   "outputs": [],
   "source": [
    "from langchain.chains import ConversationChain\n",
    "convo = ConversationChain(\n",
    "    llm=model,\n",
    "    memory=memory\n",
    ")"
   ]
  },
  {
   "cell_type": "code",
   "execution_count": 53,
   "id": "844a1504",
   "metadata": {},
   "outputs": [
    {
     "data": {
      "text/plain": [
       "{'input': 'what is memory?',\n",
       " 'history': '',\n",
       " 'response': 'Memory is the ability of a system to store, retain, and retrieve information. In the case of a computer system like me, memory refers to the hardware and software components that allow data to be stored temporarily or permanently for future use. There are different types of memory in computers, such as RAM (Random Access Memory) for temporary storage of data while the system is running, and storage devices like hard drives or SSDs for long-term storage of data. Memory plays a crucial role in the functioning of a computer system, as it allows programs to run and data to be accessed quickly and efficiently.'}"
      ]
     },
     "execution_count": 53,
     "metadata": {},
     "output_type": "execute_result"
    }
   ],
   "source": [
    "convo.invoke('what is memory?')"
   ]
  },
  {
   "cell_type": "markdown",
   "id": "7de5f063",
   "metadata": {},
   "source": [
    "#Chatbot with sessio n id and limited memory"
   ]
  },
  {
   "cell_type": "code",
   "execution_count": 95,
   "id": "aec3fab0",
   "metadata": {},
   "outputs": [],
   "source": [
    "from langchain_community.chat_message_histories import ChatMessageHistory\n",
    "from langchain_core.chat_history import BaseChatMessageHistory\n",
    "from langchain_core.runnables.history import RunnableWithMessageHistory\n",
    "from langchain_core.messages import HumanMessage"
   ]
  },
  {
   "cell_type": "code",
   "execution_count": 96,
   "id": "a7ce931f",
   "metadata": {},
   "outputs": [],
   "source": [
    "chatbotMemory = {}\n",
    "\n",
    "# input: session_id, output: chatbotMemory[session_id]\n",
    "def get_session_history(session_id: str) -> BaseChatMessageHistory:\n",
    "    if session_id not in chatbotMemory:\n",
    "        chatbotMemory[session_id] = ChatMessageHistory()\n",
    "    return chatbotMemory[session_id]"
   ]
  },
  {
   "cell_type": "code",
   "execution_count": 97,
   "id": "9b144ba7",
   "metadata": {},
   "outputs": [],
   "source": [
    "from langchain_core.prompts import ChatPromptTemplate, MessagesPlaceholder\n",
    "from langchain_core.runnables import RunnablePassthrough"
   ]
  },
  {
   "cell_type": "code",
   "execution_count": 112,
   "id": "4613c9bc",
   "metadata": {},
   "outputs": [],
   "source": [
    "def limited_memory_of_messages(messages, number_of_messages_to_keep=5):\n",
    "    if len(messages) <= number_of_messages_to_keep:\n",
    "        return messages\n",
    "    else:\n",
    "        return messages[-number_of_messages_to_keep:]"
   ]
  },
  {
   "cell_type": "code",
   "execution_count": 113,
   "id": "3b0cefe7",
   "metadata": {},
   "outputs": [],
   "source": [
    "prompt = ChatPromptTemplate.from_messages(\n",
    "    [\n",
    "        (\n",
    "            \"system\",\n",
    "            \"You are a helpful assistant. Answer all questions to the best of your ability.\",\n",
    "        ),\n",
    "        MessagesPlaceholder(variable_name=\"messages\"),\n",
    "    ]\n",
    ")"
   ]
  },
  {
   "cell_type": "code",
   "execution_count": 114,
   "id": "77afcc20",
   "metadata": {},
   "outputs": [],
   "source": [
    "limitedMemoryChain = (\n",
    "    RunnablePassthrough.assign(messages=lambda x: limited_memory_of_messages(x[\"messages\"]))\n",
    "    | prompt \n",
    "    | model\n",
    ")"
   ]
  },
  {
   "cell_type": "code",
   "execution_count": 115,
   "id": "cb9d01d6",
   "metadata": {},
   "outputs": [],
   "source": [
    "chatbot_with_limited_message_history = RunnableWithMessageHistory(\n",
    "    limitedMemoryChain,\n",
    "    get_session_history,\n",
    "    input_messages_key=\"messages\",\n",
    ")"
   ]
  },
  {
   "cell_type": "code",
   "execution_count": 116,
   "id": "9cd5aeee",
   "metadata": {},
   "outputs": [],
   "source": [
    "session1 = {\"configurable\": {\"session_id\": \"001\"}}"
   ]
  },
  {
   "cell_type": "code",
   "execution_count": 117,
   "id": "a775c7ad",
   "metadata": {},
   "outputs": [],
   "source": [
    "responseFromChatbot = chatbot_with_limited_message_history.invoke(\n",
    "    {\n",
    "        \"messages\": [HumanMessage(content=\"what is my hometown\")],\n",
    "    },\n",
    "    config=session1,\n",
    ")"
   ]
  },
  {
   "cell_type": "code",
   "execution_count": 118,
   "id": "68a033ff",
   "metadata": {},
   "outputs": [
    {
     "data": {
      "text/plain": [
       "'Your hometown is Patna, the capital city of Bihar in India. If you have any more questions or need information about Patna, feel free to ask.'"
      ]
     },
     "execution_count": 118,
     "metadata": {},
     "output_type": "execute_result"
    }
   ],
   "source": [
    "responseFromChatbot.content"
   ]
  },
  {
   "cell_type": "code",
   "execution_count": 119,
   "id": "0d533924",
   "metadata": {},
   "outputs": [
    {
     "data": {
      "text/plain": [
       "{'001': InMemoryChatMessageHistory(messages=[HumanMessage(content='what is my hometown', additional_kwargs={}, response_metadata={}), AIMessage(content='I apologize, but I do not have access to information about your personal details, including your hometown. If there is any other way I can assist you, please feel free to let me know.', additional_kwargs={'refusal': None}, response_metadata={'token_usage': {'completion_tokens': 40, 'prompt_tokens': 31, 'total_tokens': 71, 'completion_tokens_details': {'accepted_prediction_tokens': 0, 'audio_tokens': 0, 'reasoning_tokens': 0, 'rejected_prediction_tokens': 0}, 'prompt_tokens_details': {'audio_tokens': 0, 'cached_tokens': 0}}, 'model_name': 'gpt-3.5-turbo-0125', 'system_fingerprint': None, 'id': 'chatcmpl-BJGqtThU9u1g5MF3l31B0aS1hTW34', 'finish_reason': 'stop', 'logprobs': None}, id='run-13a78a1b-a766-4c99-bdbd-0830eb369cfd-0', usage_metadata={'input_tokens': 31, 'output_tokens': 40, 'total_tokens': 71, 'input_token_details': {'audio': 0, 'cache_read': 0}, 'output_token_details': {'audio': 0, 'reasoning': 0}}), HumanMessage(content='patna is my hometown', additional_kwargs={}, response_metadata={}), AIMessage(content='Great to know! Patna is the capital city of the state of Bihar in India. It is known for its rich history and cultural heritage. If you have any specific questions or need information about Patna, feel free to ask!', additional_kwargs={'refusal': None}, response_metadata={'token_usage': {'completion_tokens': 48, 'prompt_tokens': 83, 'total_tokens': 131, 'completion_tokens_details': {'accepted_prediction_tokens': 0, 'audio_tokens': 0, 'reasoning_tokens': 0, 'rejected_prediction_tokens': 0}, 'prompt_tokens_details': {'audio_tokens': 0, 'cached_tokens': 0}}, 'model_name': 'gpt-3.5-turbo-0125', 'system_fingerprint': None, 'id': 'chatcmpl-BJGrcGW2KEByFIydjpi240hOryTvU', 'finish_reason': 'stop', 'logprobs': None}, id='run-b54395c9-77e8-4e62-aa43-fbf51f2f1bb5-0', usage_metadata={'input_tokens': 83, 'output_tokens': 48, 'total_tokens': 131, 'input_token_details': {'audio': 0, 'cache_read': 0}, 'output_token_details': {'audio': 0, 'reasoning': 0}}), HumanMessage(content='what is my hometown', additional_kwargs={}, response_metadata={}), AIMessage(content='Based on your previous response, your hometown is Patna. If you have any more questions or need assistance related to Patna or any other topic, feel free to ask.', additional_kwargs={'refusal': None}, response_metadata={'token_usage': {'completion_tokens': 36, 'prompt_tokens': 142, 'total_tokens': 178, 'completion_tokens_details': {'accepted_prediction_tokens': 0, 'audio_tokens': 0, 'reasoning_tokens': 0, 'rejected_prediction_tokens': 0}, 'prompt_tokens_details': {'audio_tokens': 0, 'cached_tokens': 0}}, 'model_name': 'gpt-3.5-turbo-0125', 'system_fingerprint': None, 'id': 'chatcmpl-BJGru0HDQWchgUYHDnT8dcwRkFI0g', 'finish_reason': 'stop', 'logprobs': None}, id='run-900b6e58-0667-40c9-a56f-b89433d5d66d-0', usage_metadata={'input_tokens': 142, 'output_tokens': 36, 'total_tokens': 178, 'input_token_details': {'audio': 0, 'cache_read': 0}, 'output_token_details': {'audio': 0, 'reasoning': 0}}), HumanMessage(content='what is my hometown', additional_kwargs={}, response_metadata={}), AIMessage(content='Your hometown is Patna, the capital city of Bihar in India. If you have any more questions or need information about Patna, feel free to ask.', additional_kwargs={'refusal': None}, response_metadata={'token_usage': {'completion_tokens': 33, 'prompt_tokens': 138, 'total_tokens': 171, 'completion_tokens_details': {'accepted_prediction_tokens': 0, 'audio_tokens': 0, 'reasoning_tokens': 0, 'rejected_prediction_tokens': 0}, 'prompt_tokens_details': {'audio_tokens': 0, 'cached_tokens': 0}}, 'model_name': 'gpt-3.5-turbo-0125', 'system_fingerprint': None, 'id': 'chatcmpl-BJIO98Xuie1e8kKw9TGzTJSSGFJKk', 'finish_reason': 'stop', 'logprobs': None}, id='run-8664e13e-4b48-42e7-befd-dfd4530c4923-0', usage_metadata={'input_tokens': 138, 'output_tokens': 33, 'total_tokens': 171, 'input_token_details': {'audio': 0, 'cache_read': 0}, 'output_token_details': {'audio': 0, 'reasoning': 0}})])}"
      ]
     },
     "execution_count": 119,
     "metadata": {},
     "output_type": "execute_result"
    }
   ],
   "source": [
    "chatbotMemory"
   ]
  },
  {
   "cell_type": "code",
   "execution_count": null,
   "id": "afd4dc76",
   "metadata": {},
   "outputs": [],
   "source": []
  }
 ],
 "metadata": {
  "kernelspec": {
   "display_name": "venv1",
   "language": "python",
   "name": "python3"
  },
  "language_info": {
   "codemirror_mode": {
    "name": "ipython",
    "version": 3
   },
   "file_extension": ".py",
   "mimetype": "text/x-python",
   "name": "python",
   "nbconvert_exporter": "python",
   "pygments_lexer": "ipython3",
   "version": "3.12.9"
  }
 },
 "nbformat": 4,
 "nbformat_minor": 5
}
